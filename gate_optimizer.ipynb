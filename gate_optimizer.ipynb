{
 "metadata": {
  "language_info": {
   "codemirror_mode": {
    "name": "ipython",
    "version": 3
   },
   "file_extension": ".py",
   "mimetype": "text/x-python",
   "name": "python",
   "nbconvert_exporter": "python",
   "pygments_lexer": "ipython3",
   "version": "3.8.5-final"
  },
  "orig_nbformat": 2,
  "kernelspec": {
   "name": "python38364bitquantumcondae8f96cf94850493da0aded4ac5bae44f",
   "display_name": "Python 3.8.3 64-bit ('quantum': conda)"
  }
 },
 "nbformat": 4,
 "nbformat_minor": 2,
 "cells": [
  {
   "cell_type": "code",
   "execution_count": 2,
   "metadata": {},
   "outputs": [],
   "source": [
    "import numpy as np"
   ]
  },
  {
   "cell_type": "code",
   "execution_count": 1,
   "metadata": {},
   "outputs": [],
   "source": [
    "problem_set = [\n",
    "    [[\"0\", \"2\"], [\"1\", \"0\"], [\"1\", \"2\"], [\"1\", \"3\"], [\"2\", \"0\"], [\"3\", \"3\"]],\n",
    "    [[\"0\", \"0\"], [\"0\", \"1\"], [\"1\", \"2\"], [\"2\", \"2\"], [\"3\", \"0\"], [\"3\", \"3\"]],\n",
    "    [[\"0\", \"0\"], [\"1\", \"1\"], [\"1\", \"3\"], [\"2\", \"0\"], [\"3\", \"2\"], [\"3\", \"3\"]],\n",
    "    [[\"0\", \"0\"], [\"0\", \"1\"], [\"1\", \"1\"], [\"1\", \"3\"], [\"3\", \"2\"], [\"3\", \"3\"]],\n",
    "    [[\"0\", \"2\"], [\"1\", \"0\"], [\"1\", \"3\"], [\"2\", \"0\"], [\"3\", \"2\"], [\"3\", \"3\"]],\n",
    "    [[\"1\", \"1\"], [\"1\", \"2\"], [\"2\", \"0\"], [\"2\", \"1\"], [\"3\", \"1\"], [\"3\", \"3\"]],\n",
    "    [[\"0\", \"2\"], [\"0\", \"3\"], [\"1\", \"2\"], [\"2\", \"0\"], [\"2\", \"1\"], [\"3\", \"3\"]],\n",
    "    [[\"0\", \"0\"], [\"0\", \"3\"], [\"1\", \"2\"], [\"2\", \"2\"], [\"2\", \"3\"], [\"3\", \"0\"]],\n",
    "    [[\"0\", \"3\"], [\"1\", \"1\"], [\"1\", \"2\"], [\"2\", \"0\"], [\"2\", \"1\"], [\"3\", \"3\"]],\n",
    "    [[\"0\", \"0\"], [\"0\", \"1\"], [\"1\", \"3\"], [\"2\", \"1\"], [\"2\", \"3\"], [\"3\", \"0\"]],\n",
    "    [[\"0\", \"1\"], [\"0\", \"3\"], [\"1\", \"2\"], [\"1\", \"3\"], [\"2\", \"0\"], [\"3\", \"2\"]],\n",
    "    [[\"0\", \"0\"], [\"1\", \"3\"], [\"2\", \"0\"], [\"2\", \"1\"], [\"2\", \"3\"], [\"3\", \"1\"]],\n",
    "    [[\"0\", \"1\"], [\"0\", \"2\"], [\"1\", \"0\"], [\"1\", \"2\"], [\"2\", \"2\"], [\"2\", \"3\"]],\n",
    "    [[\"0\", \"3\"], [\"1\", \"0\"], [\"1\", \"3\"], [\"2\", \"1\"], [\"2\", \"2\"], [\"3\", \"0\"]],\n",
    "    [[\"0\", \"2\"], [\"0\", \"3\"], [\"1\", \"2\"], [\"2\", \"3\"], [\"3\", \"0\"], [\"3\", \"1\"]],\n",
    "    [[\"0\", \"1\"], [\"1\", \"0\"], [\"1\", \"2\"], [\"2\", \"2\"], [\"3\", \"0\"], [\"3\", \"1\"]],\n",
    "]\n"
   ]
  },
  {
   "cell_type": "code",
   "execution_count": 66,
   "metadata": {},
   "outputs": [],
   "source": [
    "def row_to_dict(row):\n",
    "\n",
    "    row_dict = {}\n",
    "    for i, item in enumerate(row):\n",
    "\n",
    "        if len(row) == 2:\n",
    "            bin_str = f\"{i:01b}\"\n",
    "        if len(row) == 4:\n",
    "            bin_str = f\"{i:02b}\"\n",
    "        if len(row) == 8:\n",
    "            bin_str = f\"{i:02b}\"\n",
    "        if len(row) == 16:\n",
    "            bin_str = f\"{i:04b}\"\n",
    "\n",
    "        row_dict[bin_str] = item\n",
    "\n",
    "    return row_dict\n"
   ]
  },
  {
   "cell_type": "code",
   "execution_count": 69,
   "metadata": {},
   "outputs": [
    {
     "output_type": "stream",
     "name": "stdout",
     "text": [
      "The score is 5100 with permutation [3, 1, 0, 2]; worst score is 6720\n"
     ]
    }
   ],
   "source": [
    "\n",
    "\n",
    "def print_and_split(cluster_dict, bit_string=\"\", branch_order=[3,2,1,0]):\n",
    "\n",
    "    score_array = [10, 60, 180, 300, 420]\n",
    "\n",
    "    # Check to see if there is only one value in the dictionary.values()\n",
    "    if len(set(cluster_dict.values())) == 1:\n",
    "        unique_value = set(cluster_dict.values()).pop()\n",
    "        #print(f\"We have a leaf with value {unique_value} with bit_string {bit_string}\")\n",
    "        return score_array[len(bit_string)]\n",
    "    \n",
    "    zero_dict = {}\n",
    "    one_dict = {}\n",
    "    current_bit = branch_order[0]\n",
    "    \n",
    "    for k,v in cluster_dict.items():\n",
    "        if k[current_bit] == \"0\":\n",
    "            zero_dict[k] = v\n",
    "        else:\n",
    "            one_dict[k] = v\n",
    "\n",
    "    score1 = print_and_split(zero_dict, bit_string + \"0\", branch_order[1:])\n",
    "    score2 = print_and_split(one_dict, bit_string + \"1\", branch_order[1:])\n",
    "\n",
    "    return score1 + score2\n",
    "\n",
    "perm = [3,1,0,2]\n",
    "score = print_and_split(row_to_dict(test), branch_order=perm)\n",
    "print(f\"The score is {score} with permutation {perm}; worst score is {420*16}\")"
   ]
  },
  {
   "cell_type": "code",
   "execution_count": 73,
   "metadata": {
    "tags": []
   },
   "outputs": [
    {
     "output_type": "stream",
     "name": "stdout",
     "text": [
      "The best score is for horizontal row 0 is 2520 with permutation (0, 1, 2, 3); worst score is 6720\nThe best score is for horizontal row 1 is 4680 with permutation (0, 1, 3, 2); worst score is 6720\nThe best score is for horizontal row 2 is 5100 with permutation (3, 0, 1, 2); worst score is 6720\nThe best score is for horizontal row 3 is 2520 with permutation (0, 1, 2, 3); worst score is 6720\nThe best score is for horizontal row 4 is 2520 with permutation (0, 1, 2, 3); worst score is 6720\nThe best score is for horizontal row 5 is 2520 with permutation (0, 1, 2, 3); worst score is 6720\nThe best score is for vertical row 0 is 5100 with permutation (1, 3, 0, 2); worst score is 6720\nThe best score is for vertical row 1 is 2520 with permutation (0, 1, 2, 3); worst score is 6720\nThe best score is for vertical row 2 is 2940 with permutation (1, 2, 0, 3); worst score is 6720\nThe best score is for vertical row 3 is 4680 with permutation (0, 2, 3, 1); worst score is 6720\nThe best score is for vertical row 4 is 2520 with permutation (0, 1, 2, 3); worst score is 6720\nThe best score is for vertical row 5 is 4680 with permutation (0, 2, 3, 1); worst score is 6720\n"
     ]
    }
   ],
   "source": [
    "ps = np.array(problem_set, int)\n",
    "cluster_horz = ps.T[0]\n",
    "cluster_vert = ps.T[1]\n",
    "\n",
    "test = cluster_horz[4]\n",
    "\n",
    "row_to_dict(test)\n",
    "\n",
    "\n",
    "\n",
    "for i, row in enumerate(cluster_horz):\n",
    "    best_score = 9999\n",
    "    best_perm = None\n",
    "\n",
    "    for p in permutations([0,1,2,3]):\n",
    "        score = print_and_split(row_to_dict(row), branch_order=p)\n",
    "        if score < best_score:\n",
    "            best_score = score\n",
    "            best_perm = p\n",
    "\n",
    "    score = print_and_split(row_to_dict(test), branch_order=best_perm)\n",
    "    print(f\"The best score is for horizontal row {i} is {score} with permutation {best_perm}; worst score is {420*16}\")\n",
    "\n",
    "for i, row in enumerate(cluster_vert):\n",
    "    best_score = 9999\n",
    "    best_perm = None\n",
    "\n",
    "    for p in permutations([0,1,2,3]):\n",
    "        score = print_and_split(row_to_dict(row), branch_order=p)\n",
    "        if score < best_score:\n",
    "            best_score = score\n",
    "            best_perm = p\n",
    "\n",
    "    score = print_and_split(row_to_dict(test), branch_order=best_perm)\n",
    "    print(f\"The best score is for vertical row {i} is {score} with permutation {best_perm}; worst score is {420*16}\")"
   ]
  },
  {
   "cell_type": "code",
   "execution_count": null,
   "metadata": {},
   "outputs": [],
   "source": []
  }
 ]
}